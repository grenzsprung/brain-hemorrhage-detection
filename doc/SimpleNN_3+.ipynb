{
 "cells": [
  {
   "cell_type": "markdown",
   "metadata": {},
   "source": [
    "## Importing dataset of image information:"
   ]
  },
  {
   "cell_type": "code",
   "execution_count": 1,
   "metadata": {},
   "outputs": [
    {
     "name": "stderr",
     "output_type": "stream",
     "text": [
      "Using TensorFlow backend.\n"
     ]
    },
    {
     "name": "stdout",
     "output_type": "stream",
     "text": [
      "1.14.0\n",
      "3.6.6\n"
     ]
    }
   ],
   "source": [
    "import tensorflow as tf\n",
    "from tensorflow import keras\n",
    "from keras.applications import resnet50\n",
    "from PIL import Image\n",
    "from numpy import asarray\n",
    "\n",
    "import random\n",
    "import os\n",
    "import pandas as pd\n",
    "import numpy as np\n",
    "from skimage.io import imread_collection\n",
    "import skimage.io\n",
    "import skimage.color\n",
    "import skimage.transform\n",
    "from platform import python_version\n",
    "import matplotlib.pyplot as plt\n",
    "from sklearn.model_selection import train_test_split\n",
    "from keras.applications.resnet50 import ResNet50\n",
    "from keras.preprocessing import image\n",
    "from keras.applications.resnet50 import preprocess_input, decode_predictions\n",
    "\n",
    "print(tf.__version__)\n",
    "print(python_version())"
   ]
  },
  {
   "cell_type": "code",
   "execution_count": 2,
   "metadata": {},
   "outputs": [
    {
     "name": "stdout",
     "output_type": "stream",
     "text": [
      "Total images in Jeremy Howard's metatable: 194082\n"
     ]
    }
   ],
   "source": [
    "# extract filenames from the folder of images\n",
    "filenames = []\n",
    "for root, dirs, files in os.walk('../input/rsna-hemorrhage-jpg/train_jpg/train_jpg'):\n",
    "    for file in files:\n",
    "        if file.endswith('.jpg'):\n",
    "            filenames.append(file)\n",
    "\n",
    "print(\"Total images in Jeremy Howard's metatable: \"+\"{}\".format(len(filenames)))"
   ]
  },
  {
   "cell_type": "markdown",
   "metadata": {},
   "source": [
    "## Cleaning and splitting the dataset of image information:\n",
    "Get a dataset of only images with 3+ hemorrhages types (6,547) and 20,000 random healthy images."
   ]
  },
  {
   "cell_type": "code",
   "execution_count": 3,
   "metadata": {},
   "outputs": [
    {
     "name": "stderr",
     "output_type": "stream",
     "text": [
      "/opt/conda/lib/python3.6/site-packages/pandas/io/feather_format.py:117: FutureWarning: `nthreads` argument is deprecated, pass `use_threads` instead\n",
      "  return feather.read_feather(path, columns=columns, nthreads=int_use_threads)\n",
      "/opt/conda/lib/python3.6/site-packages/pyarrow/pandas_compat.py:751: FutureWarning: .labels was deprecated in version 0.24.0. Use .codes instead.\n",
      "  labels, = index.labels\n"
     ]
    }
   ],
   "source": [
    "labels = pd.read_feather('../input/rsna-hemorrhage-jpg/meta/meta/labels.fth')\n",
    "\n",
    "#manipulate the filenames list, stripping the .jpg at the end\n",
    "idstosearch = [item.rstrip(\".jpg\") for item in filenames]\n",
    "\n",
    "#now search the \"ID\" column for ids that correspond to our filenames\n",
    "labels = labels[labels['ID'].isin(idstosearch)]"
   ]
  },
  {
   "cell_type": "code",
   "execution_count": 4,
   "metadata": {},
   "outputs": [
    {
     "name": "stdout",
     "output_type": "stream",
     "text": [
      "Number of images with hemorrhage: 6547\n",
      "Number of healthy images: 20000\n",
      "Percent of dataset with 3+ hemorrhage types: 24.66%\n"
     ]
    }
   ],
   "source": [
    "random.seed(10)\n",
    "new_hem = labels[labels[['epidural', 'intraparenchymal', 'intraventricular', 'subarachnoid', 'subdural']].sum(1) >= 3].copy()\n",
    "new_normal = labels[labels['any'] == 0].copy()\n",
    "new_normal = new_normal.sample(n = 20000)\n",
    "frames = [new_normal, new_hem]\n",
    "new = pd.concat(frames)\n",
    "new = new.sort_values('ID')\n",
    "print(\"Number of images with hemorrhage: \"+\"{}\".format(len(new_hem)))\n",
    "print(\"Number of healthy images: \"+\"{}\".format(len(new_normal)))\n",
    "print(\"Percent of dataset with 3+ hemorrhage types: \"+\"{:.2%}\".format(len(new_hem)/len(new)))"
   ]
  },
  {
   "cell_type": "markdown",
   "metadata": {},
   "source": [
    "## Image import:\n",
    "Import photos using their ID names drawn from the train and test datasets. These images come from Jeremy Howard's [dataset](http://www.kaggle.com/jhoward/rsna-hemorrhage-jpg) of ~200,000 images."
   ]
  },
  {
   "cell_type": "code",
   "execution_count": 5,
   "metadata": {},
   "outputs": [
    {
     "name": "stdout",
     "output_type": "stream",
     "text": [
      "Percent train images hemorrhage positive: 24.73%\n",
      "Percent test images hemorrhage positive: 24.03%\n"
     ]
    }
   ],
   "source": [
    "new, test = train_test_split(new, test_size = 0.1)\n",
    "newlist = new['ID']\n",
    "newids = [\"../input/rsna-hemorrhage-jpg/train_jpg/train_jpg/\"+ x + \".jpg\" for x in newlist]\n",
    "newimages = imread_collection(newids)\n",
    "\n",
    "labels_new = new.iloc[:, 1]\n",
    "print(\"Percent train images hemorrhage positive: \"+\"{:.2%}\".format(labels_new.sum()/len(new)))\n",
    "\n",
    "testlist = test['ID']\n",
    "testids = [\"../input/rsna-hemorrhage-jpg/train_jpg/train_jpg/\"+ x + \".jpg\" for x in testlist]\n",
    "testimages = imread_collection(testids)\n",
    "\n",
    "labels_test = test.iloc[:, 1]\n",
    "print(\"Percent test images hemorrhage positive: \"+\"{:.2%}\".format(labels_test.sum()/len(test)))"
   ]
  },
  {
   "cell_type": "code",
   "execution_count": 6,
   "metadata": {},
   "outputs": [],
   "source": [
    "labels_new = pd.Series.to_numpy(labels_new)\n",
    "newimages_arr = skimage.io.collection.concatenate_images(newimages)\n",
    "labels_test = pd.Series.to_numpy(labels_test)\n",
    "testimages_arr = skimage.io.collection.concatenate_images(testimages)"
   ]
  },
  {
   "cell_type": "markdown",
   "metadata": {},
   "source": [
    "## Model training:"
   ]
  },
  {
   "cell_type": "code",
   "execution_count": 7,
   "metadata": {},
   "outputs": [],
   "source": [
    "model = keras.Sequential([\n",
    "    keras.layers.Flatten(input_shape=(256, 256, 3)),\n",
    "    keras.layers.Dense(128, activation='relu'),\n",
    "    keras.layers.Dense(1, activation='sigmoid')\n",
    "])"
   ]
  },
  {
   "cell_type": "code",
   "execution_count": 8,
   "metadata": {},
   "outputs": [],
   "source": [
    "model.compile(optimizer=keras.optimizers.Adadelta(),\n",
    "              loss='binary_crossentropy',\n",
    "              metrics=['accuracy'])"
   ]
  },
  {
   "cell_type": "code",
   "execution_count": 9,
   "metadata": {},
   "outputs": [
    {
     "name": "stdout",
     "output_type": "stream",
     "text": [
      "Train on 21502 samples, validate on 2390 samples\n",
      "Epoch 1/50\n",
      "21502/21502 [==============================] - 12s 558us/sample - loss: 10.0205 - acc: 0.7419 - val_loss: 5.2488 - val_acc: 0.7770\n",
      "Epoch 2/50\n",
      "21502/21502 [==============================] - 11s 516us/sample - loss: 5.2469 - acc: 0.7832 - val_loss: 6.8900 - val_acc: 0.7841\n",
      "Epoch 3/50\n",
      "21502/21502 [==============================] - 11s 513us/sample - loss: 3.9191 - acc: 0.8036 - val_loss: 3.6865 - val_acc: 0.7682\n",
      "Epoch 4/50\n",
      "21502/21502 [==============================] - 11s 512us/sample - loss: 2.9297 - acc: 0.8035 - val_loss: 1.8868 - val_acc: 0.8004\n",
      "Epoch 5/50\n",
      "21502/21502 [==============================] - 11s 515us/sample - loss: 1.2574 - acc: 0.8075 - val_loss: 1.0327 - val_acc: 0.8205\n",
      "Epoch 6/50\n",
      "21502/21502 [==============================] - 11s 513us/sample - loss: 1.0000 - acc: 0.8225 - val_loss: 1.3800 - val_acc: 0.8117\n",
      "Epoch 7/50\n",
      "21502/21502 [==============================] - 11s 512us/sample - loss: 0.9096 - acc: 0.8309 - val_loss: 1.0135 - val_acc: 0.8151\n",
      "Epoch 8/50\n",
      "21502/21502 [==============================] - 11s 510us/sample - loss: 0.8406 - acc: 0.8388 - val_loss: 1.2263 - val_acc: 0.8251\n",
      "Epoch 9/50\n",
      "21502/21502 [==============================] - 11s 508us/sample - loss: 0.7668 - acc: 0.8460 - val_loss: 0.9427 - val_acc: 0.8481\n",
      "Epoch 10/50\n",
      "21502/21502 [==============================] - 11s 535us/sample - loss: 0.7465 - acc: 0.8485 - val_loss: 0.8377 - val_acc: 0.8527\n",
      "Epoch 11/50\n",
      "21502/21502 [==============================] - 11s 523us/sample - loss: 0.7167 - acc: 0.8492 - val_loss: 1.0113 - val_acc: 0.8423\n",
      "Epoch 12/50\n",
      "21502/21502 [==============================] - 11s 534us/sample - loss: 0.6657 - acc: 0.8588 - val_loss: 1.1295 - val_acc: 0.7946\n",
      "Epoch 13/50\n",
      "21502/21502 [==============================] - 12s 541us/sample - loss: 0.6367 - acc: 0.8644 - val_loss: 0.7561 - val_acc: 0.8498\n",
      "Epoch 14/50\n",
      "21502/21502 [==============================] - 12s 555us/sample - loss: 0.6062 - acc: 0.8678 - val_loss: 0.7972 - val_acc: 0.8406\n",
      "Epoch 15/50\n",
      "21502/21502 [==============================] - 11s 512us/sample - loss: 0.5916 - acc: 0.8669 - val_loss: 0.7455 - val_acc: 0.8577\n",
      "Epoch 16/50\n",
      "21502/21502 [==============================] - 11s 526us/sample - loss: 0.5698 - acc: 0.8692 - val_loss: 0.7191 - val_acc: 0.8469\n",
      "Epoch 17/50\n",
      "21502/21502 [==============================] - 11s 520us/sample - loss: 0.5433 - acc: 0.8753 - val_loss: 0.7864 - val_acc: 0.8607\n",
      "Epoch 18/50\n",
      "21502/21502 [==============================] - 11s 516us/sample - loss: 0.5124 - acc: 0.8778 - val_loss: 0.8992 - val_acc: 0.8197\n",
      "Epoch 19/50\n",
      "21502/21502 [==============================] - 11s 520us/sample - loss: 0.5037 - acc: 0.8812 - val_loss: 0.7332 - val_acc: 0.8628\n",
      "Epoch 20/50\n",
      "21502/21502 [==============================] - 11s 527us/sample - loss: 0.4752 - acc: 0.8862 - val_loss: 0.7496 - val_acc: 0.8669\n",
      "Epoch 21/50\n",
      "21502/21502 [==============================] - 11s 526us/sample - loss: 0.4689 - acc: 0.8848 - val_loss: 1.0586 - val_acc: 0.8013\n",
      "Epoch 22/50\n",
      "21502/21502 [==============================] - 11s 531us/sample - loss: 0.4581 - acc: 0.8877 - val_loss: 0.7161 - val_acc: 0.8623\n",
      "Epoch 23/50\n",
      "21502/21502 [==============================] - 11s 517us/sample - loss: 0.4526 - acc: 0.8875 - val_loss: 0.7051 - val_acc: 0.8586\n",
      "Epoch 24/50\n",
      "21502/21502 [==============================] - 12s 540us/sample - loss: 0.4162 - acc: 0.8940 - val_loss: 0.8304 - val_acc: 0.8473\n",
      "Epoch 25/50\n",
      "21502/21502 [==============================] - 11s 534us/sample - loss: 0.4176 - acc: 0.8963 - val_loss: 0.7431 - val_acc: 0.8669\n",
      "Epoch 26/50\n",
      "21502/21502 [==============================] - 11s 530us/sample - loss: 0.4085 - acc: 0.8946 - val_loss: 0.9176 - val_acc: 0.8372\n",
      "Epoch 27/50\n",
      "21502/21502 [==============================] - 12s 552us/sample - loss: 0.3840 - acc: 0.8981 - val_loss: 0.7203 - val_acc: 0.8682\n",
      "Epoch 28/50\n",
      "21502/21502 [==============================] - 12s 540us/sample - loss: 0.3873 - acc: 0.8999 - val_loss: 1.3088 - val_acc: 0.8188\n",
      "Epoch 29/50\n",
      "21502/21502 [==============================] - 11s 531us/sample - loss: 0.3664 - acc: 0.9060 - val_loss: 0.7894 - val_acc: 0.8686\n",
      "Epoch 30/50\n",
      "21502/21502 [==============================] - 12s 541us/sample - loss: 0.3472 - acc: 0.9069 - val_loss: 0.7252 - val_acc: 0.8695\n",
      "Epoch 31/50\n",
      "21502/21502 [==============================] - 11s 533us/sample - loss: 0.3375 - acc: 0.9084 - val_loss: 0.7097 - val_acc: 0.8594\n",
      "Epoch 32/50\n",
      "21502/21502 [==============================] - 12s 537us/sample - loss: 0.3408 - acc: 0.9081 - val_loss: 0.9400 - val_acc: 0.8494\n",
      "Epoch 33/50\n",
      "21502/21502 [==============================] - 12s 542us/sample - loss: 0.3186 - acc: 0.9121 - val_loss: 0.6961 - val_acc: 0.8640\n",
      "Epoch 34/50\n",
      "21502/21502 [==============================] - 12s 549us/sample - loss: 0.3202 - acc: 0.9131 - val_loss: 1.3648 - val_acc: 0.8146\n",
      "Epoch 35/50\n",
      "21502/21502 [==============================] - 11s 529us/sample - loss: 0.2627 - acc: 0.9253 - val_loss: 0.7396 - val_acc: 0.8590\n",
      "Epoch 42/50\n",
      "21502/21502 [==============================] - 11s 524us/sample - loss: 0.2509 - acc: 0.9269 - val_loss: 0.7752 - val_acc: 0.8732\n",
      "Epoch 43/50\n",
      "21502/21502 [==============================] - 11s 520us/sample - loss: 0.2406 - acc: 0.9300 - val_loss: 0.7212 - val_acc: 0.8640\n",
      "Epoch 44/50\n",
      "21502/21502 [==============================] - 11s 516us/sample - loss: 0.2369 - acc: 0.9290 - val_loss: 0.7224 - val_acc: 0.8695\n",
      "Epoch 45/50\n",
      "21502/21502 [==============================] - 11s 518us/sample - loss: 0.2252 - acc: 0.9317 - val_loss: 0.9782 - val_acc: 0.8297\n",
      "Epoch 46/50\n",
      "21502/21502 [==============================] - 11s 518us/sample - loss: 0.2376 - acc: 0.9307 - val_loss: 0.7460 - val_acc: 0.8640\n",
      "Epoch 47/50\n",
      "21502/21502 [==============================] - 11s 523us/sample - loss: 0.2158 - acc: 0.9351 - val_loss: 0.7173 - val_acc: 0.8736\n",
      "Epoch 48/50\n",
      "21502/21502 [==============================] - 11s 518us/sample - loss: 0.2041 - acc: 0.9362 - val_loss: 0.7602 - val_acc: 0.8628\n",
      "Epoch 49/50\n",
      "21502/21502 [==============================] - 11s 524us/sample - loss: 0.2058 - acc: 0.9361 - val_loss: 1.0398 - val_acc: 0.8310\n",
      "Epoch 50/50\n",
      "21502/21502 [==============================] - 11s 510us/sample - loss: 0.1975 - acc: 0.9392 - val_loss: 0.7623 - val_acc: 0.8582\n"
     ]
    },
    {
     "data": {
      "text/plain": [
       "<tensorflow.python.keras.callbacks.History at 0x7f7854d92080>"
      ]
     },
     "execution_count": 9,
     "metadata": {},
     "output_type": "execute_result"
    }
   ],
   "source": [
    "model.fit(newimages_arr, labels_new, epochs = 50, validation_split = 0.1)"
   ]
  },
  {
   "cell_type": "markdown",
   "metadata": {},
   "source": [
    "## Model summary:"
   ]
  },
  {
   "cell_type": "code",
   "execution_count": 10,
   "metadata": {},
   "outputs": [
    {
     "name": "stdout",
     "output_type": "stream",
     "text": [
      "Model: \"sequential\"\n",
      "_________________________________________________________________\n",
      "Layer (type)                 Output Shape              Param #   \n",
      "=================================================================\n",
      "flatten (Flatten)            (None, 196608)            0         \n",
      "_________________________________________________________________\n",
      "dense (Dense)                (None, 128)               25165952  \n",
      "_________________________________________________________________\n",
      "dense_1 (Dense)              (None, 1)                 129       \n",
      "=================================================================\n",
      "Total params: 25,166,081\n",
      "Trainable params: 25,166,081\n",
      "Non-trainable params: 0\n",
      "_________________________________________________________________\n"
     ]
    }
   ],
   "source": [
    "model.summary()"
   ]
  },
  {
   "cell_type": "markdown",
   "metadata": {},
   "source": [
    "## Model metrics:"
   ]
  },
  {
   "cell_type": "code",
   "execution_count": 11,
   "metadata": {},
   "outputs": [
    {
     "name": "stdout",
     "output_type": "stream",
     "text": [
      "2655/2655 - 1s - loss: 0.8293 - acc: 0.8411\n",
      "Test Accuracy: 84.11%\n"
     ]
    }
   ],
   "source": [
    "import sklearn.metrics as metrics\n",
    "predictions = model.predict(testimages_arr)\n",
    "\n",
    "test_loss, test_acc = model.evaluate(testimages_arr, labels_test, verbose=2)\n",
    "print(\"Test Accuracy: \"+\"{:.2%}\".format(test_acc))"
   ]
  },
  {
   "cell_type": "code",
   "execution_count": 12,
   "metadata": {},
   "outputs": [
    {
     "name": "stdout",
     "output_type": "stream",
     "text": [
      "Test MSE: 0.137\n"
     ]
    }
   ],
   "source": [
    "mse = metrics.mean_squared_error(predictions.flatten(), labels_test)\n",
    "print(\"Test MSE: \"+\"{:.3}\".format(mse))"
   ]
  },
  {
   "cell_type": "code",
   "execution_count": 13,
   "metadata": {},
   "outputs": [
    {
     "name": "stdout",
     "output_type": "stream",
     "text": [
      "Test AUC: 0.902\n"
     ]
    },
    {
     "data": {
      "image/png": "[encoded data removed]",
      "text/plain": [
       "<Figure size 432x288 with 1 Axes>"
      ]
     },
     "metadata": {},
     "output_type": "display_data"
    }
   ],
   "source": [
    "def get_statistics(preds, test, threshold):\n",
    "    tp = 0\n",
    "    fp = 0\n",
    "    tn = 0\n",
    "    fn = 0\n",
    "\n",
    "    for i in range(0, len(test)):\n",
    "        if test[i] == 1 and preds[i] >= threshold:\n",
    "            tp += 1\n",
    "        elif test[i] == 1 and preds[i] < threshold:\n",
    "            fn += 1\n",
    "        elif test[i] == 0 and preds[i] >= threshold:\n",
    "            fp += 1\n",
    "        elif test[i] == 0 and preds[i] < threshold:\n",
    "            tn += 1\n",
    "\n",
    "    return (tp, fp, tn, fn)\n",
    "\n",
    "tpr = []\n",
    "fpr = []\n",
    "thresholds = np.linspace(0, 1, 101)\n",
    "\n",
    "for threshold in thresholds:\n",
    "    # DNN\n",
    "    (tp, fp, tn, fn) = (0, 0, 0, 0)\n",
    "    (tp_s, fp_s, tn_s, fn_s) = get_statistics(preds=predictions.flatten(), test=labels_test, threshold=threshold)\n",
    "\n",
    "    tp += tp_s\n",
    "    fp += fp_s\n",
    "    tn += tn_s\n",
    "    fn += fn_s\n",
    "\n",
    "    try:\n",
    "        #print(\"Threshold: {} has TPR: {}\".format(threshold, float(tp) / (tp + fn)))\n",
    "        tpr.append(float(tp) / (tp + fn))\n",
    "    except:\n",
    "        #print(\"Threshold: {} has TPR: {}\".format(threshold, 0))\n",
    "        tpr.append(0)\n",
    "\n",
    "    try:\n",
    "        #print(\"Threshold: {} has FPR: {}\".format(threshold, float(fp) / (fp + tn)))\n",
    "        fpr.append(float(fp) / (fp + tn))\n",
    "\n",
    "    except:\n",
    "        #print(\"Threshold: {} has FPR: {}\".format(threshold, 0))\n",
    "        fpr.append(0)\n",
    "\n",
    "auc = metrics.auc(fpr, tpr)\n",
    "title = 'ROC Curve, AUC = {:.2}'.format(auc)\n",
    "with plt.style.context(('ggplot')):\n",
    "    fig, ax = plt.subplots()\n",
    "    ax.plot(fpr, tpr, \"#000099\", label='ROC curve')\n",
    "    ax.plot([0, 1], [0, 1], 'k--', label='Baseline')\n",
    "    plt.xlim([0.0, 1.0])\n",
    "    plt.ylim([0.0, 1.05])\n",
    "    plt.xlabel('False Positive Rate')\n",
    "    plt.ylabel('True Positive Rate')\n",
    "    plt.legend(loc='lower right')\n",
    "    plt.title(title)\n",
    "    \n",
    "print(\"Test AUC: \"+\"{:.3}\".format(auc))"
   ]
  }
 ],
 "metadata": {
  "kernelspec": {
   "display_name": "Python 3",
   "language": "python",
   "name": "python3"
  },
  "language_info": {
   "codemirror_mode": {
    "name": "ipython",
    "version": 3
   },
   "file_extension": ".py",
   "mimetype": "text/x-python",
   "name": "python",
   "nbconvert_exporter": "python",
   "pygments_lexer": "ipython3",
   "version": "3.6.6"
  }
 },
 "nbformat": 4,
 "nbformat_minor": 1
}
