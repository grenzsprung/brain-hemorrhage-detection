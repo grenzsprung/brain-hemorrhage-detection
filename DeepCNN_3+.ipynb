{
 "cells": [
  {
   "cell_type": "markdown",
   "metadata": {},
   "source": [
    "### Importing dataset of image information:"
   ]
  },
  {
   "cell_type": "code",
   "execution_count": 1,
   "metadata": {},
   "outputs": [
    {
     "name": "stdout",
     "output_type": "stream",
     "text": [
      "1.14.0\n",
      "3.6.6\n"
     ]
    }
   ],
   "source": [
    "import tensorflow as tf\n",
    "from tensorflow import keras\n",
    "\n",
    "import random\n",
    "import os\n",
    "import pandas as pd\n",
    "import numpy as np\n",
    "from skimage.io import imread_collection\n",
    "import skimage.io\n",
    "import skimage.color\n",
    "import skimage.transform\n",
    "from platform import python_version\n",
    "import matplotlib.pyplot as plt\n",
    "from sklearn.model_selection import train_test_split\n",
    "\n",
    "print(tf.__version__)\n",
    "print(python_version())"
   ]
  },
  {
   "cell_type": "code",
   "execution_count": 2,
   "metadata": {},
   "outputs": [
    {
     "name": "stdout",
     "output_type": "stream",
     "text": [
      "Total images in Jeremy Howard's metatable: 194082\n"
     ]
    }
   ],
   "source": [
    "# extract filenames from the folder of images\n",
    "filenames = []\n",
    "for root, dirs, files in os.walk('../input/rsna-hemorrhage-jpg/train_jpg/train_jpg'):\n",
    "    for file in files:\n",
    "        if file.endswith('.jpg'):\n",
    "            filenames.append(file)\n",
    "\n",
    "print(\"Total images in Jeremy Howard's metatable: \"+\"{}\".format(len(filenames)))"
   ]
  },
  {
   "cell_type": "code",
   "execution_count": 3,
   "metadata": {},
   "outputs": [
    {
     "name": "stderr",
     "output_type": "stream",
     "text": [
      "/opt/conda/lib/python3.6/site-packages/pandas/io/feather_format.py:117: FutureWarning: `nthreads` argument is deprecated, pass `use_threads` instead\n",
      "  return feather.read_feather(path, columns=columns, nthreads=int_use_threads)\n",
      "/opt/conda/lib/python3.6/site-packages/pyarrow/pandas_compat.py:751: FutureWarning: .labels was deprecated in version 0.24.0. Use .codes instead.\n",
      "  labels, = index.labels\n"
     ]
    }
   ],
   "source": [
    "labels = pd.read_feather('../input/rsna-hemorrhage-jpg/meta/meta/labels.fth')\n",
    "\n",
    "#manipulate the filenames list, stripping the .jpg at the end\n",
    "idstosearch = [item.rstrip(\".jpg\") for item in filenames]\n",
    "\n",
    "#now search the \"ID\" column for ids that correspond to our filenames\n",
    "labels = labels[labels['ID'].isin(idstosearch)]"
   ]
  },
  {
   "cell_type": "markdown",
   "metadata": {},
   "source": [
    "### Cleaning and splitting the dataset of image information:\n",
    "\n",
    "Get a dataset of only images with 3+ hemorrhages types (6,547) and 20,000 random healthy images."
   ]
  },
  {
   "cell_type": "code",
   "execution_count": 4,
   "metadata": {},
   "outputs": [
    {
     "name": "stdout",
     "output_type": "stream",
     "text": [
      "Number of images with hemorrhage: 6547\n",
      "Number of healthy images: 20000\n",
      "Percent of dataset with 3+ hemorrhage types: 24.66%\n"
     ]
    }
   ],
   "source": [
    "random.seed(10)\n",
    "new_hem = labels[labels[['epidural', 'intraparenchymal', 'intraventricular', 'subarachnoid', 'subdural']].sum(1) >= 3].copy()\n",
    "new_normal = labels[labels['any'] == 0].copy()\n",
    "new_normal = new_normal.sample(n = 20000)\n",
    "frames = [new_normal, new_hem]\n",
    "new = pd.concat(frames)\n",
    "new = new.sort_values('ID')\n",
    "print(\"Number of images with hemorrhage: \"+\"{}\".format(len(new_hem)))\n",
    "print(\"Number of healthy images: \"+\"{}\".format(len(new_normal)))\n",
    "print(\"Percent of dataset with 3+ hemorrhage types: \"+\"{:.2%}\".format(len(new_hem)/len(new)))"
   ]
  },
  {
   "cell_type": "markdown",
   "metadata": {},
   "source": [
    "### Image import:\n",
    "\n",
    "Import photos using their ID names drawn from the train and test datasets. These images come from Jeremy Howard's [dataset](https://www.kaggle.com/jhoward/rsna-hemorrhage-jpg) of ~200,000 images."
   ]
  },
  {
   "cell_type": "code",
   "execution_count": 5,
   "metadata": {},
   "outputs": [
    {
     "name": "stdout",
     "output_type": "stream",
     "text": [
      "Percent train images hemorrhage positive: 24.71%\n",
      "Percent test images hemorrhage positive: 24.26%\n"
     ]
    }
   ],
   "source": [
    "new, test = train_test_split(new, test_size = 0.1)\n",
    "newlist = new['ID']\n",
    "newids = [\"../input/rsna-hemorrhage-jpg/train_jpg/train_jpg/\"+ x + \".jpg\" for x in newlist]\n",
    "newimages = imread_collection(newids)\n",
    "\n",
    "labels_new = new.iloc[:, 1]\n",
    "print(\"Percent train images hemorrhage positive: \"+\"{:.2%}\".format(labels_new.sum()/len(new)))\n",
    "\n",
    "testlist = test['ID']\n",
    "testids = [\"../input/rsna-hemorrhage-jpg/train_jpg/train_jpg/\"+ x + \".jpg\" for x in testlist]\n",
    "testimages = imread_collection(testids)\n",
    "\n",
    "labels_test = test.iloc[:, 1]\n",
    "print(\"Percent test images hemorrhage positive: \"+\"{:.2%}\".format(labels_test.sum()/len(test)))"
   ]
  },
  {
   "cell_type": "code",
   "execution_count": 6,
   "metadata": {},
   "outputs": [],
   "source": [
    "labels_new = pd.Series.to_numpy(labels_new)\n",
    "newimages_arr = skimage.io.collection.concatenate_images(newimages)\n",
    "labels_test = pd.Series.to_numpy(labels_test)\n",
    "testimages_arr = skimage.io.collection.concatenate_images(testimages)"
   ]
  },
  {
   "cell_type": "markdown",
   "metadata": {},
   "source": [
    "### Model training:"
   ]
  },
  {
   "cell_type": "code",
   "execution_count": 7,
   "metadata": {},
   "outputs": [],
   "source": [
    "model = keras.Sequential()\n",
    "model.add(keras.layers.Conv2D(32, kernel_size=(5, 5), strides=(1, 1),\n",
    "                 activation='relu',\n",
    "                 input_shape=(256, 256, 3)))\n",
    "model.add(keras.layers.MaxPooling2D(pool_size=(2, 2), strides=(2, 2)))\n",
    "#model.add(keras.layers.Dropout(0.25))\n",
    "model.add(keras.layers.Conv2D(64, (5, 5), activation='relu'))\n",
    "model.add(keras.layers.MaxPooling2D(pool_size=(2, 2)))\n",
    "#model.add(keras.layers.Dropout(0.25))\n",
    "model.add(keras.layers.Flatten())\n",
    "model.add(keras.layers.Dense(128, activation='relu'))\n",
    "model.add(keras.layers.Dense(1, activation='sigmoid'))"
   ]
  },
  {
   "cell_type": "code",
   "execution_count": 8,
   "metadata": {},
   "outputs": [],
   "source": [
    "model.compile(optimizer=keras.optimizers.Adadelta(),\n",
    "              loss='binary_crossentropy',\n",
    "              metrics=['accuracy'])"
   ]
  },
  {
   "cell_type": "code",
   "execution_count": 9,
   "metadata": {},
   "outputs": [
    {
     "name": "stdout",
     "output_type": "stream",
     "text": [
      "Train on 21502 samples, validate on 2390 samples\n",
      "Epoch 1/50\n",
      "21502/21502 [==============================] - 36s 2ms/sample - loss: 1.5886 - acc: 0.7590 - val_loss: 1.0850 - val_acc: 0.7473\n",
      "Epoch 2/50\n",
      "21502/21502 [==============================] - 32s 1ms/sample - loss: 0.8296 - acc: 0.8075 - val_loss: 0.7235 - val_acc: 0.8213\n",
      "Epoch 3/50\n",
      "21502/21502 [==============================] - 32s 1ms/sample - loss: 0.6619 - acc: 0.8270 - val_loss: 0.7109 - val_acc: 0.8335\n",
      "Epoch 4/50\n",
      "21502/21502 [==============================] - 32s 1ms/sample - loss: 0.5349 - acc: 0.8455 - val_loss: 0.6233 - val_acc: 0.8163\n",
      "Epoch 5/50\n",
      "21502/21502 [==============================] - 32s 1ms/sample - loss: 0.4751 - acc: 0.8555 - val_loss: 0.7641 - val_acc: 0.8343\n",
      "Epoch 6/50\n",
      "21502/21502 [==============================] - 32s 1ms/sample - loss: 0.4170 - acc: 0.8690 - val_loss: 0.5915 - val_acc: 0.8255\n",
      "Epoch 7/50\n",
      "21502/21502 [==============================] - 32s 1ms/sample - loss: 0.3751 - acc: 0.8803 - val_loss: 0.4982 - val_acc: 0.8690\n",
      "Epoch 8/50\n",
      "21502/21502 [==============================] - 32s 1ms/sample - loss: 0.3375 - acc: 0.8867 - val_loss: 0.5121 - val_acc: 0.8715\n",
      "Epoch 9/50\n",
      "21502/21502 [==============================] - 32s 1ms/sample - loss: 0.3021 - acc: 0.8960 - val_loss: 0.4442 - val_acc: 0.8770\n",
      "Epoch 10/50\n",
      "21502/21502 [==============================] - 32s 1ms/sample - loss: 0.2864 - acc: 0.9022 - val_loss: 0.4946 - val_acc: 0.8803\n",
      "Epoch 11/50\n",
      "21502/21502 [==============================] - 32s 1ms/sample - loss: 0.2630 - acc: 0.9085 - val_loss: 0.7971 - val_acc: 0.8360\n",
      "Epoch 12/50\n",
      "21502/21502 [==============================] - 32s 1ms/sample - loss: 0.2257 - acc: 0.9186 - val_loss: 0.4360 - val_acc: 0.8828\n",
      "Epoch 13/50\n",
      "21502/21502 [==============================] - 32s 1ms/sample - loss: 0.2184 - acc: 0.9203 - val_loss: 0.4110 - val_acc: 0.8833\n",
      "Epoch 14/50\n",
      "21502/21502 [==============================] - 32s 1ms/sample - loss: 0.1969 - acc: 0.9274 - val_loss: 0.4860 - val_acc: 0.8845\n",
      "Epoch 15/50\n",
      "21502/21502 [==============================] - 32s 1ms/sample - loss: 0.1770 - acc: 0.9344 - val_loss: 0.4456 - val_acc: 0.8849\n",
      "Epoch 16/50\n",
      "21502/21502 [==============================] - 32s 1ms/sample - loss: 0.1646 - acc: 0.9374 - val_loss: 0.4037 - val_acc: 0.8808\n",
      "Epoch 17/50\n",
      "21502/21502 [==============================] - 32s 1ms/sample - loss: 0.1448 - acc: 0.9451 - val_loss: 0.4089 - val_acc: 0.8833\n",
      "Epoch 18/50\n",
      "21502/21502 [==============================] - 32s 1ms/sample - loss: 0.1342 - acc: 0.9487 - val_loss: 0.3877 - val_acc: 0.8979\n",
      "Epoch 19/50\n",
      "21502/21502 [==============================] - 32s 1ms/sample - loss: 0.1186 - acc: 0.9548 - val_loss: 0.3916 - val_acc: 0.8921\n",
      "Epoch 20/50\n",
      "21502/21502 [==============================] - 32s 1ms/sample - loss: 0.1114 - acc: 0.9555 - val_loss: 0.4272 - val_acc: 0.8724\n",
      "Epoch 21/50\n",
      "21502/21502 [==============================] - 32s 1ms/sample - loss: 0.0437 - acc: 0.9856 - val_loss: 0.3800 - val_acc: 0.9113\n",
      "Epoch 32/50\n",
      "21502/21502 [==============================] - 31s 1ms/sample - loss: 0.0404 - acc: 0.9865 - val_loss: 0.3829 - val_acc: 0.9008\n",
      "Epoch 33/50\n",
      "21502/21502 [==============================] - 31s 1ms/sample - loss: 0.0363 - acc: 0.9880 - val_loss: 0.4476 - val_acc: 0.9000\n",
      "Epoch 34/50\n",
      "21502/21502 [==============================] - 32s 1ms/sample - loss: 0.0329 - acc: 0.9896 - val_loss: 0.3863 - val_acc: 0.9038\n",
      "Epoch 35/50\n",
      "21502/21502 [==============================] - 32s 1ms/sample - loss: 0.0307 - acc: 0.9912 - val_loss: 0.3595 - val_acc: 0.9013\n",
      "Epoch 36/50\n",
      "21502/21502 [==============================] - 32s 1ms/sample - loss: 0.0258 - acc: 0.9933 - val_loss: 0.3780 - val_acc: 0.9105\n",
      "Epoch 37/50\n",
      "21502/21502 [==============================] - 32s 1ms/sample - loss: 0.0262 - acc: 0.9927 - val_loss: 0.4006 - val_acc: 0.9000\n",
      "Epoch 38/50\n",
      "21502/21502 [==============================] - 32s 1ms/sample - loss: 0.0239 - acc: 0.9942 - val_loss: 0.3777 - val_acc: 0.9063\n",
      "Epoch 39/50\n",
      "21502/21502 [==============================] - 32s 1ms/sample - loss: 0.0200 - acc: 0.9949 - val_loss: 0.4332 - val_acc: 0.9138\n",
      "Epoch 40/50\n",
      "21502/21502 [==============================] - 32s 1ms/sample - loss: 0.0218 - acc: 0.9940 - val_loss: 0.4972 - val_acc: 0.9000\n",
      "Epoch 41/50\n",
      "21502/21502 [==============================] - 32s 1ms/sample - loss: 0.0179 - acc: 0.9959 - val_loss: 0.4132 - val_acc: 0.9155\n",
      "Epoch 42/50\n",
      "21502/21502 [==============================] - 32s 1ms/sample - loss: 0.0170 - acc: 0.9957 - val_loss: 0.3853 - val_acc: 0.9096\n",
      "Epoch 43/50\n",
      "21502/21502 [==============================] - 32s 1ms/sample - loss: 0.0155 - acc: 0.9965 - val_loss: 0.3971 - val_acc: 0.9176\n",
      "Epoch 44/50\n",
      "21502/21502 [==============================] - 32s 1ms/sample - loss: 0.0154 - acc: 0.9969 - val_loss: 0.3773 - val_acc: 0.9151\n",
      "Epoch 45/50\n",
      "21502/21502 [==============================] - 32s 1ms/sample - loss: 0.0132 - acc: 0.9970 - val_loss: 0.5210 - val_acc: 0.8611\n",
      "Epoch 46/50\n",
      "21502/21502 [==============================] - 32s 1ms/sample - loss: 0.0120 - acc: 0.9971 - val_loss: 0.5141 - val_acc: 0.9075\n",
      "Epoch 47/50\n",
      "21502/21502 [==============================] - 32s 1ms/sample - loss: 0.0179 - acc: 0.9966 - val_loss: 0.3898 - val_acc: 0.9138\n",
      "Epoch 48/50\n",
      "21502/21502 [==============================] - 31s 1ms/sample - loss: 0.0098 - acc: 0.9981 - val_loss: 0.4213 - val_acc: 0.9188\n",
      "Epoch 49/50\n",
      "21502/21502 [==============================] - 32s 1ms/sample - loss: 0.0124 - acc: 0.9975 - val_loss: 0.4323 - val_acc: 0.9205\n",
      "Epoch 50/50\n",
      "21502/21502 [==============================] - 31s 1ms/sample - loss: 0.0117 - acc: 0.9974 - val_loss: 0.4836 - val_acc: 0.9121\n"
     ]
    },
    {
     "data": {
      "text/plain": [
       "<tensorflow.python.keras.callbacks.History at 0x7f3fd0634438>"
      ]
     },
     "execution_count": 9,
     "metadata": {},
     "output_type": "execute_result"
    }
   ],
   "source": [
    "model.fit(newimages_arr, labels_new, epochs = 50, validation_split = 0.1)"
   ]
  },
  {
   "cell_type": "markdown",
   "metadata": {},
   "source": [
    "### Model summary:"
   ]
  },
  {
   "cell_type": "code",
   "execution_count": 10,
   "metadata": {},
   "outputs": [
    {
     "name": "stdout",
     "output_type": "stream",
     "text": [
      "Model: \"sequential\"\n",
      "_________________________________________________________________\n",
      "Layer (type)                 Output Shape              Param #   \n",
      "=================================================================\n",
      "conv2d (Conv2D)              (None, 252, 252, 32)      2432      \n",
      "_________________________________________________________________\n",
      "max_pooling2d (MaxPooling2D) (None, 126, 126, 32)      0         \n",
      "_________________________________________________________________\n",
      "conv2d_1 (Conv2D)            (None, 122, 122, 64)      51264     \n",
      "_________________________________________________________________\n",
      "max_pooling2d_1 (MaxPooling2 (None, 61, 61, 64)        0         \n",
      "_________________________________________________________________\n",
      "flatten (Flatten)            (None, 238144)            0         \n",
      "_________________________________________________________________\n",
      "dense (Dense)                (None, 128)               30482560  \n",
      "_________________________________________________________________\n",
      "dense_1 (Dense)              (None, 1)                 129       \n",
      "=================================================================\n",
      "Total params: 30,536,385\n",
      "Trainable params: 30,536,385\n",
      "Non-trainable params: 0\n",
      "_________________________________________________________________\n"
     ]
    }
   ],
   "source": [
    "model.summary()"
   ]
  },
  {
   "cell_type": "markdown",
   "metadata": {},
   "source": [
    "### Model validation:"
   ]
  },
  {
   "cell_type": "code",
   "execution_count": 11,
   "metadata": {},
   "outputs": [
    {
     "name": "stdout",
     "output_type": "stream",
     "text": [
      "2655/2655 - 2s - loss: 0.4124 - acc: 0.9217\n",
      "Test Accuracy: 92.17%\n"
     ]
    }
   ],
   "source": [
    "import sklearn.metrics as metrics\n",
    "predictions = model.predict(testimages_arr)\n",
    "\n",
    "test_loss, test_acc = model.evaluate(testimages_arr, labels_test, verbose=2)\n",
    "print(\"Test Accuracy: \"+\"{:.2%}\".format(test_acc))"
   ]
  },
  {
   "cell_type": "code",
   "execution_count": 12,
   "metadata": {},
   "outputs": [
    {
     "name": "stdout",
     "output_type": "stream",
     "text": [
      "Test MSE: 0.0663\n"
     ]
    }
   ],
   "source": [
    "mse = metrics.mean_squared_error(predictions.flatten(), labels_test)\n",
    "print(\"Test MSE: \"+\"{:.3}\".format(mse))"
   ]
  },
  {
   "cell_type": "code",
   "execution_count": 13,
   "metadata": {},
   "outputs": [
    {
     "name": "stdout",
     "output_type": "stream",
     "text": [
      "Test AUC: 0.934\n"
     ]
    },
    {
     "data": {
      "image/png": "[encoded data removed]",
      "text/plain": [
       "<Figure size 432x288 with 1 Axes>"
      ]
     },
     "metadata": {},
     "output_type": "display_data"
    }
   ],
   "source": [
    "def get_statistics(preds, test, threshold):\n",
    "    tp = 0\n",
    "    fp = 0\n",
    "    tn = 0\n",
    "    fn = 0\n",
    "\n",
    "    for i in range(0, len(test)):\n",
    "        if test[i] == 1 and preds[i] >= threshold:\n",
    "            tp += 1\n",
    "        elif test[i] == 1 and preds[i] < threshold:\n",
    "            fn += 1\n",
    "        elif test[i] == 0 and preds[i] >= threshold:\n",
    "            fp += 1\n",
    "        elif test[i] == 0 and preds[i] < threshold:\n",
    "            tn += 1\n",
    "\n",
    "    return (tp, fp, tn, fn)\n",
    "\n",
    "tpr = []\n",
    "fpr = []\n",
    "thresholds = np.linspace(0, 1, 101)\n",
    "\n",
    "for threshold in thresholds:\n",
    "    # DNN\n",
    "    (tp, fp, tn, fn) = (0, 0, 0, 0)\n",
    "    (tp_s, fp_s, tn_s, fn_s) = get_statistics(preds=predictions.flatten(), test=labels_test, threshold=threshold)\n",
    "\n",
    "    tp += tp_s\n",
    "    fp += fp_s\n",
    "    tn += tn_s\n",
    "    fn += fn_s\n",
    "\n",
    "    try:\n",
    "        #print(\"Threshold: {} has TPR: {}\".format(threshold, float(tp) / (tp + fn)))\n",
    "        tpr.append(float(tp) / (tp + fn))\n",
    "    except:\n",
    "        #print(\"Threshold: {} has TPR: {}\".format(threshold, 0))\n",
    "        tpr.append(0)\n",
    "\n",
    "    try:\n",
    "        #print(\"Threshold: {} has FPR: {}\".format(threshold, float(fp) / (fp + tn)))\n",
    "        fpr.append(float(fp) / (fp + tn))\n",
    "\n",
    "    except:\n",
    "        #print(\"Threshold: {} has FPR: {}\".format(threshold, 0))\n",
    "        fpr.append(0)\n",
    "\n",
    "auc = metrics.auc(fpr, tpr)\n",
    "title = 'ROC Curve, AUC = {:.2}'.format(auc)\n",
    "with plt.style.context(('ggplot')):\n",
    "    fig, ax = plt.subplots()\n",
    "    ax.plot(fpr, tpr, \"#000099\", label='ROC curve')\n",
    "    ax.plot([0, 1], [0, 1], 'k--', label='Baseline')\n",
    "    plt.xlim([0.0, 1.0])\n",
    "    plt.ylim([0.0, 1.05])\n",
    "    plt.xlabel('False Positive Rate')\n",
    "    plt.ylabel('True Positive Rate')\n",
    "    plt.legend(loc='lower right')\n",
    "    plt.title(title)\n",
    "    \n",
    "print(\"Test AUC: \"+\"{:.3}\".format(auc))"
   ]
  }
 ],
 "metadata": {
  "kernelspec": {
   "display_name": "Python 3",
   "language": "python",
   "name": "python3"
  },
  "language_info": {
   "codemirror_mode": {
    "name": "ipython",
    "version": 3
   },
   "file_extension": ".py",
   "mimetype": "text/x-python",
   "name": "python",
   "nbconvert_exporter": "python",
   "pygments_lexer": "ipython3",
   "version": "3.6.6"
  }
 },
 "nbformat": 4,
 "nbformat_minor": 1
}
